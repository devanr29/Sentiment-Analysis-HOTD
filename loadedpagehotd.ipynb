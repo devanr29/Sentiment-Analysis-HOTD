{
 "cells": [
  {
   "cell_type": "code",
   "execution_count": 2,
   "metadata": {},
   "outputs": [],
   "source": [
    "from selenium import webdriver\n",
    "from selenium.webdriver.common.by import By\n",
    "from selenium.webdriver.chrome.service import Service\n",
    "from selenium.webdriver.chrome.options import Options\n",
    "from selenium.webdriver.support.ui import WebDriverWait\n",
    "from selenium.webdriver.support import expected_conditions as EC\n",
    "from bs4 import BeautifulSoup\n",
    "import time"
   ]
  },
  {
   "cell_type": "code",
   "execution_count": 3,
   "metadata": {},
   "outputs": [
    {
     "name": "stdout",
     "output_type": "stream",
     "text": [
      "No more load more button or error: Message: \n",
      "\n"
     ]
    }
   ],
   "source": [
    "# Set path to chromedriver as per your configuration\n",
    "webdriver_service = Service(r\"C:\\Users\\Lenovo\\Downloads\\chromedriver-win64\\chromedriver-win64\\chromedriver.exe\")  # Use raw string here\n",
    "# Choose Chrome Browser\n",
    "driver = webdriver.Chrome(service=webdriver_service)#, options=chrome_options)\n",
    "# Open the IMDb reviews page\n",
    "driver.get('https://www.imdb.com/title/tt11198330/reviews')\n",
    "def load_all_reviews():\n",
    "    while True:\n",
    "        try:\n",
    "        # Wait for the load more button to be present and clickable\n",
    "            previous_pagee = load_more_button = WebDriverWait(driver, 10).until(\n",
    "                EC.element_to_be_clickable((By.CLASS_NAME, \"ipl-load-more__button\"))\n",
    "            )\n",
    "            load_more_button.click()\n",
    "            time.sleep(2)  # Wait for reviews to load\n",
    "        except Exception as e:\n",
    "            print(\"No more load more button or error:\", e)\n",
    "            break\n",
    "load_all_reviews()\n"
   ]
  },
  {
   "cell_type": "code",
   "execution_count": 4,
   "metadata": {},
   "outputs": [],
   "source": [
    "page_source = driver.page_source\n",
    "\n",
    "with open('imdb_reviews_page.html', 'w', encoding='utf-8') as f:\n",
    "    f.write(page_source)"
   ]
  },
  {
   "cell_type": "code",
   "execution_count": 5,
   "metadata": {},
   "outputs": [],
   "source": [
    "driver.quit()"
   ]
  },
  {
   "cell_type": "code",
   "execution_count": null,
   "metadata": {},
   "outputs": [],
   "source": []
  }
 ],
 "metadata": {
  "kernelspec": {
   "display_name": "base",
   "language": "python",
   "name": "python3"
  },
  "language_info": {
   "codemirror_mode": {
    "name": "ipython",
    "version": 3
   },
   "file_extension": ".py",
   "mimetype": "text/x-python",
   "name": "python",
   "nbconvert_exporter": "python",
   "pygments_lexer": "ipython3",
   "version": "3.9.13"
  }
 },
 "nbformat": 4,
 "nbformat_minor": 2
}
